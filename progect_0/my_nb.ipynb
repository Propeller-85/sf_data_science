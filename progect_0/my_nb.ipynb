{
 "cells": [
  {
   "cell_type": "code",
   "execution_count": 220,
   "metadata": {},
   "outputs": [],
   "source": [
    "import numpy as np"
   ]
  },
  {
   "cell_type": "code",
   "execution_count": 221,
   "metadata": {},
   "outputs": [
    {
     "name": "stdout",
     "output_type": "stream",
     "text": [
      "[[1.  1.5 2.  2.5 3.  3.5]\n",
      " [4.  4.5 5.  5.5 6.  6.5]\n",
      " [7.  7.5 8.  8.5 9.  9.5]]\n"
     ]
    },
    {
     "data": {
      "text/plain": [
       "5.0"
      ]
     },
     "execution_count": 221,
     "metadata": {},
     "output_type": "execute_result"
    }
   ],
   "source": [
    "nd_array = np.linspace(1, 10 , 18, endpoint=False).reshape(3, 6)\n",
    "print(nd_array)\n",
    "nd_array[1, 2]\n",
    "#nd_array"
   ]
  }
 ],
 "metadata": {
  "kernelspec": {
   "display_name": "Python 3.9.10 64-bit",
   "language": "python",
   "name": "python3"
  },
  "language_info": {
   "codemirror_mode": {
    "name": "ipython",
    "version": 3
   },
   "file_extension": ".py",
   "mimetype": "text/x-python",
   "name": "python",
   "nbconvert_exporter": "python",
   "pygments_lexer": "ipython3",
   "version": "3.9.10"
  },
  "orig_nbformat": 4,
  "vscode": {
   "interpreter": {
    "hash": "e94c16575280fa8f2e5486bafd3a324be23c6e8b2abb01ca58c1ac6319394a7b"
   }
  }
 },
 "nbformat": 4,
 "nbformat_minor": 2
}
